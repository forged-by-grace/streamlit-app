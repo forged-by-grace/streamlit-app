{
 "cells": [
  {
   "cell_type": "code",
   "execution_count": 6,
   "metadata": {},
   "outputs": [],
   "source": [
    "s = \"aabcdeffgabcdef\"\n",
    "k = \"abcdef\""
   ]
  },
  {
   "cell_type": "code",
   "execution_count": 11,
   "metadata": {},
   "outputs": [
    {
     "name": "stdout",
     "output_type": "stream",
     "text": [
      "raw: aabcde\n",
      "raw: abcdef\n",
      "abcdef\n",
      "(1, 6)\n",
      "raw: bcdeff\n",
      "raw: cdeffg\n",
      "raw: deffga\n",
      "raw: effgab\n",
      "raw: ffgabc\n",
      "raw: fgabcd\n",
      "raw: gabcde\n",
      "raw: abcdef\n",
      "abcdef\n",
      "(9, 14)\n",
      "raw: bcdef\n",
      "raw: cdef\n",
      "raw: def\n",
      "raw: ef\n",
      "raw: f\n"
     ]
    }
   ],
   "source": [
    "for i in range(len(s)):\n",
    "    sub = s[i:i + len(k)]\n",
    "    print(f\"raw: {sub}\")\n",
    "    if sub == k:\n",
    "        print(sub)\n",
    "        print((i, i + len(k)-1))"
   ]
  },
  {
   "cell_type": "code",
   "execution_count": 12,
   "metadata": {},
   "outputs": [],
   "source": [
    "import re"
   ]
  },
  {
   "cell_type": "code",
   "execution_count": 66,
   "metadata": {},
   "outputs": [],
   "source": [
    "# Search for a pattern in a string\n",
    "pattern = r\"&{2}\"  # Looks for 3 consecutive digits\n",
    "pattern = re.compile(pattern=pattern)"
   ]
  },
  {
   "cell_type": "code",
   "execution_count": 67,
   "metadata": {},
   "outputs": [],
   "source": [
    "text1 = \"My phone number is 123-456-7890\""
   ]
  },
  {
   "cell_type": "code",
   "execution_count": 68,
   "metadata": {},
   "outputs": [],
   "source": [
    "text2 = \"Replace 12 apples && / || 34 oranges\""
   ]
  },
  {
   "cell_type": "code",
   "execution_count": 69,
   "metadata": {},
   "outputs": [],
   "source": [
    "def replace_str(match):\n",
    "    value = match.group(0)\n",
    "    return \"and\""
   ]
  },
  {
   "cell_type": "code",
   "execution_count": 70,
   "metadata": {},
   "outputs": [],
   "source": [
    "result = re.sub(pattern, replace_str, text2)"
   ]
  },
  {
   "cell_type": "code",
   "execution_count": 71,
   "metadata": {},
   "outputs": [
    {
     "name": "stdout",
     "output_type": "stream",
     "text": [
      "Replace 12 apples and / || 34 oranges\n"
     ]
    }
   ],
   "source": [
    "print(result)"
   ]
  },
  {
   "cell_type": "code",
   "execution_count": null,
   "metadata": {},
   "outputs": [],
   "source": []
  }
 ],
 "metadata": {
  "kernelspec": {
   "display_name": "venv",
   "language": "python",
   "name": "python3"
  },
  "language_info": {
   "codemirror_mode": {
    "name": "ipython",
    "version": 3
   },
   "file_extension": ".py",
   "mimetype": "text/x-python",
   "name": "python",
   "nbconvert_exporter": "python",
   "pygments_lexer": "ipython3",
   "version": "3.12.4"
  }
 },
 "nbformat": 4,
 "nbformat_minor": 2
}
